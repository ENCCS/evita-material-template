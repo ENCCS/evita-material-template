{
 "cells": [
  {
   "cell_type": "markdown",
   "id": "5a58f0dc-1f8d-4378-a525-6ab854d29230",
   "metadata": {},
   "source": [
    "# Reference for course authors"
   ]
  },
  {
   "cell_type": "markdown",
   "id": "8103b2f2-60bc-40dc-b4ce-2b685364e2c8",
   "metadata": {},
   "source": [
    "## Directives"
   ]
  },
  {
   "cell_type": "markdown",
   "id": "77910792-eb7c-4cd0-afe9-469ca15c46c6",
   "metadata": {},
   "source": [
    "There are some directives or admonitions defined in \n",
    "[MyST markdown](https://mystmd.org/guide/admonitions) and\n",
    "[sphinx-lesson](https://coderefinery.github.io/sphinx-lesson/directives/)\n",
    "to highlight blocks within the course materials. Some of these are:\n",
    "\n",
    "- `discussion`, `demo`, `exercises`, `solution`, `homework`, ...\n",
    "- `note`, `hint`, `important`, `attention`, `caution`,`warning`, `danger`, ...\n",
    "\n",
    "These directives are extensions on top of the vanilla Markdown syntax."
   ]
  },
  {
   "cell_type": "markdown",
   "id": "22950afe-2b2f-4dcf-b826-9f63f4367ed0",
   "metadata": {},
   "source": [
    "For example, when a markdown cell in a Jupyter notebook contains the following:\n",
    "\n",
    "::::::{instructor-note} MyST markdown syntax\n",
    ":class: dropdown\n",
    "\n",
    "```\n",
    ":::{discussion} How large is your data?\n",
    "\n",
    "- How large is the data you are working with?\n",
    "- Are you experiencing performance bottlenecks when you try to analyse it?\n",
    "\n",
    ":::\n",
    "```\n",
    "\n",
    ":::::::\n",
    "\n",
    "it renders into HTML while appears as below:"
   ]
  },
  {
   "cell_type": "markdown",
   "id": "e2e8bd54-706d-49a2-9333-f913ebacb6a1",
   "metadata": {},
   "source": [
    ":::{discussion} How large is your data?\n",
    "\n",
    "- How large is the data you are working with?\n",
    "- Are you experiencing performance bottlenecks when you try to analyse it?\n",
    "\n",
    ":::"
   ]
  },
  {
   "cell_type": "markdown",
   "id": "39a7267a-efac-45b2-8ba5-f1be106e8d5f",
   "metadata": {},
   "source": [
    "## All other directives"
   ]
  },
  {
   "cell_type": "markdown",
   "id": "0ca7542f-320c-46a0-a9c3-362cbb44f603",
   "metadata": {},
   "source": [
    ":::{objectives}\n",
    "\n",
    "- learning objective 1\n",
    "- learning objective 2\n",
    "\n",
    ":::"
   ]
  },
  {
   "cell_type": "markdown",
   "id": "424d315b-30d7-4d51-9059-b0b45961c29b",
   "metadata": {},
   "source": [
    ":::{questions}\n",
    "\n",
    "- What does the tool X do?\n",
    "- How can we use tool X in an HPC cluster?\n",
    "\n",
    ":::"
   ]
  },
  {
   "cell_type": "markdown",
   "id": "38bf6810-3837-4ac7-b6d6-85e4f4332408",
   "metadata": {},
   "source": [
    ":::{attention}\n",
    "\n",
    "Do not remove the following line.\n",
    "\n",
    ":::"
   ]
  },
  {
   "cell_type": "markdown",
   "id": "38008358-7035-402f-9150-60cccdcce2f6",
   "metadata": {},
   "source": [
    ":::{caution}\n",
    "\n",
    "Do not remove the following line.\n",
    "\n",
    ":::"
   ]
  },
  {
   "cell_type": "markdown",
   "id": "3711376a-af95-45aa-a1e7-45247c7b4e68",
   "metadata": {},
   "source": [
    ":::{warning}\n",
    "\n",
    "Do not remove the following line.\n",
    "\n",
    ":::"
   ]
  },
  {
   "cell_type": "markdown",
   "id": "24435b5e-fe94-4137-974e-d586dc00eac8",
   "metadata": {},
   "source": [
    ":::{danger}\n",
    "\n",
    "Here is a danger!\n",
    "\n",
    ":::"
   ]
  },
  {
   "cell_type": "markdown",
   "id": "36fc8da0-1383-4b32-8236-4bce33de33b3",
   "metadata": {},
   "source": [
    ":::{error}\n",
    "\n",
    "Here is an error!\n",
    "\n",
    ":::"
   ]
  },
  {
   "cell_type": "markdown",
   "id": "edf7bbd9-79c0-4817-84ba-086583af8a6a",
   "metadata": {},
   "source": [
    ":::{hint}\n",
    "\n",
    "In this exercise, you can use A instead of B.\n",
    ":::"
   ]
  },
  {
   "cell_type": "markdown",
   "id": "b4644005-188a-44c6-ac4f-0515f809a6de",
   "metadata": {},
   "source": [
    ":::{tip}\n",
    "\n",
    "In this exercise, you can use A instead of B.\n",
    "\n",
    ":::"
   ]
  },
  {
   "cell_type": "markdown",
   "id": "38922224-4617-4607-bd6f-ed30de7ca584",
   "metadata": {},
   "source": [
    ":::{important}\n",
    "\n",
    "You should use the latest version of Python.\n",
    ":::"
   ]
  },
  {
   "cell_type": "markdown",
   "id": "2d735106-2dd2-42ef-90a3-dd4fc27c8e23",
   "metadata": {},
   "source": [
    ":::{exercise}\n",
    "\n",
    "Description of exercise\n",
    "- Do this\n",
    "- then do this\n",
    "- finally observe what happens when you do this.\n",
    "\n",
    ":::"
   ]
  },
  {
   "cell_type": "markdown",
   "id": "c455d2ab-fab6-4ea4-ac20-50347e4d6e32",
   "metadata": {},
   "source": [
    ":::{exercise} Exercise with a \"Click to show\" button\n",
    ":class: dropdown\n",
    "\n",
    "Description of exercise\n",
    "- Do this\n",
    "- then do this\n",
    "- finally observe what happens when you do this…do this…\n",
    "\n",
    ":::"
   ]
  },
  {
   "cell_type": "markdown",
   "id": "5972e715-ea10-4cc0-9d1c-229d4a648a26",
   "metadata": {},
   "source": [
    ":::{solution}\n",
    "\n",
    "Here is the solution for above exercises.\n",
    "\n",
    ":::"
   ]
  },
  {
   "cell_type": "markdown",
   "id": "b93af28d-4a02-4ed4-9166-fb0959ae3c68",
   "metadata": {},
   "source": [
    ":::{homework}\n",
    "\n",
    "Here are the homework assignments for this episode.\n",
    "\n",
    ":::"
   ]
  },
  {
   "cell_type": "markdown",
   "id": "fdd6c818-b094-4db5-90e1-a6d8ce0d302a",
   "metadata": {},
   "source": [
    ":::{note}\n",
    "Here we emphasize an important point from the section.\n",
    ":::"
   ]
  },
  {
   "cell_type": "markdown",
   "id": "81d3b39f-3b24-4fb1-be32-cea5ee8f4d72",
   "metadata": {},
   "source": [
    ":::{demo}\n",
    "\n",
    "Code for demonstration\n",
    "\n",
    ":::"
   ]
  },
  {
   "cell_type": "markdown",
   "id": "9647e19c-dd0f-4e9c-9db3-2cb29fcabf57",
   "metadata": {},
   "source": [
    ":::{type-along}\n",
    "\n",
    "Code for a type-along live-coding session\n",
    "\n",
    "```python\n",
    "import this\n",
    "```\n",
    "\n",
    ":::"
   ]
  },
  {
   "cell_type": "markdown",
   "id": "69c4c9e6-d0d4-4884-be81-980c3814ea72",
   "metadata": {},
   "source": [
    ":::{keypoints}\n",
    "\n",
    "- summary 1\n",
    "- summary 2\n",
    "\n",
    ":::"
   ]
  },
  {
   "cell_type": "markdown",
   "id": "2c1a25f7-2af6-4a39-b90a-054cddc80b6a",
   "metadata": {},
   "source": [
    "## Define addition keywords\n",
    "\n",
    "To do:\n",
    "\n",
    "- references, ...\n",
    "- suggestion, recommendation, ...\n",
    "\n",
    "For now we reuse `admonition`."
   ]
  },
  {
   "cell_type": "markdown",
   "id": "50f11c7e-0e2b-4e22-80d6-421faa91aee9",
   "metadata": {},
   "source": [
    ":::{admonition} References\n",
    ":class: note\n",
    "\n",
    "publications and webpages for references\n",
    "\n",
    ":::"
   ]
  },
  {
   "cell_type": "markdown",
   "id": "d55389d3-86d9-46a0-9097-e21922c43af2",
   "metadata": {},
   "source": [
    ":::{admonition} Recommendation\n",
    ":class: hint\n",
    "\n",
    "It is recommended to use the CUDA version > 10.0.\n",
    "\n",
    ":::"
   ]
  },
  {
   "cell_type": "markdown",
   "id": "da64eaab-f2d4-4c41-be17-4ae98c060af8",
   "metadata": {},
   "source": [
    "## Badges"
   ]
  },
  {
   "cell_type": "markdown",
   "id": "bdea2dbd-9ace-41e3-94cf-22d03452a801",
   "metadata": {},
   "source": [
    "Here is one badge after we publish this module at Zenodo."
   ]
  },
  {
   "cell_type": "markdown",
   "id": "b5734f06-4852-42c2-b90b-ddf9024cbc3f",
   "metadata": {},
   "source": [
    "[![DOI](https://zenodo.org/badge/DOI/10.5281/zenodo.14844443.svg)](https://doi.org/10.5281/zenodo.14844443)"
   ]
  },
  {
   "cell_type": "markdown",
   "id": "aa780a11-922b-4171-8a83-36adc9539028",
   "metadata": {},
   "source": [
    "We can design other badges with different colors. See: <https://shields.io/badges>"
   ]
  },
  {
   "cell_type": "markdown",
   "id": "19894a9b-74ef-4df8-8092-073e6caf4278",
   "metadata": {},
   "source": [
    "## Providing system or language-specific course instructions\n",
    "\n",
    "Using `tabs` and `group-tab` directives we can allow the learner to focus on a single group of instructions. Here is an example below[^coderef]\n",
    "\n",
    "\n",
    "::::::{instructor-note} MyST markdown syntax\n",
    ":class: dropdown\n",
    "\n",
    "```\n",
    ":::::{admonition} Testing frameworks\n",
    "Language-specific instructions\n",
    "\n",
    "::::{tabs}\n",
    ":::{group-tab} Python\n",
    "\n",
    "The suggested solutions below use pytest.\n",
    ":::\n",
    "\n",
    ":::{group-tab} C++\n",
    "\n",
    "The suggested solutions below use Catch2.\n",
    ":::\n",
    "\n",
    ":::{group-tab} R\n",
    "\n",
    "The suggested solutions below use testthat.\n",
    ":::\n",
    "\n",
    ":::{group-tab} Julia\n",
    "\n",
    "The suggested solutions below use Test.\n",
    ":::\n",
    "\n",
    ":::{group-tab} Fortran\n",
    "\n",
    "The suggested solutions below use pFUnit.\n",
    ":::\n",
    "::::\n",
    ":::::\n",
    "```\n",
    ":::::::\n",
    "\n",
    "which renders as follows:\n",
    "\n",
    ":::::{admonition} Testing frameworks\n",
    "Language-specific instructions\n",
    "\n",
    "::::{tabs}\n",
    ":::{group-tab} Python\n",
    "\n",
    "The suggested solutions below use pytest.\n",
    ":::\n",
    "\n",
    ":::{group-tab} C++\n",
    "\n",
    "The suggested solutions below use Catch2.\n",
    ":::\n",
    "\n",
    ":::{group-tab} R\n",
    "\n",
    "The suggested solutions below use testthat.\n",
    ":::\n",
    "\n",
    ":::{group-tab} Julia\n",
    "\n",
    "The suggested solutions below use Test.\n",
    ":::\n",
    "\n",
    ":::{group-tab} Fortran\n",
    "\n",
    "The suggested solutions below use pFUnit.\n",
    ":::\n",
    "::::\n",
    ":::::\n",
    "\n",
    "[^coderef]: Adapted from the [Coderefinery testing lesson](https://coderefinery.github.io/testing/), licensed CC-BY 4.0."
   ]
  },
  {
   "cell_type": "markdown",
   "id": "271c175b-4913-4211-886b-d53d36f6f3b6",
   "metadata": {},
   "source": [
    "Start by discussing how you would design tests for the\n",
    "following five functions, and then try to write the tests.\n",
    "Also discuss why some are easier to test than others.\n",
    "\n",
    "\n",
    "::::::{exercise} Design-1: Design a test for a function that receives a number and returns a number\n",
    ":::::{tabs}\n",
    "::::{group-tab} Python\n",
    "\n",
    "  :::{literalinclude} code/python/factorial.py\n",
    "  :language: python\n",
    "  :::\n",
    "\n",
    "::::\n",
    "\n",
    "::::{group-tab} C++\n",
    "\n",
    "  :::{literalinclude} code/cpp/factorial.cpp\n",
    "  :language: C++\n",
    "  :::\n",
    "  \n",
    "::::\n",
    "\n",
    "::::{group-tab} R\n",
    "\n",
    "  :::{literalinclude} code/R/factorial.R\n",
    "  :language: R\n",
    "  :::\n",
    "  \n",
    "::::\n",
    "\n",
    "::::{group-tab} Julia\n",
    "\n",
    "  :::{literalinclude} code/julia/factorial.jl\n",
    "  :language: julia\n",
    "  :::\n",
    "\n",
    "::::\n",
    "\n",
    "::::{group-tab} Fortran\n",
    "\n",
    "  :::{literalinclude} code/fortran/factorial.f90\n",
    "  :language: fortran\n",
    "  :::\n",
    "\n",
    "::::\n",
    ":::::\n",
    "        \n",
    ":::::{discussion}\n",
    "The factorial grows very rapidly. What happens if you\n",
    "pass a large number as argument to the function?\n",
    ":::::\n",
    "::::::"
   ]
  },
  {
   "cell_type": "markdown",
   "id": "752ea1e6-d03d-44ae-ba5a-97821475c857",
   "metadata": {},
   "source": [
    "\n",
    "::::::{solution}\n",
    "\n",
    "This is a **pure function** so is easy to test: inputs go to\n",
    "outputs.  For example, start with the below, then think of some\n",
    "what extreme cases/boundary cases there might be.  This example shows\n",
    "all of the tests as one function, but you might want to make each test\n",
    "function more fine-grained and test only one concept.\n",
    "\n",
    ":::::{tabs}\n",
    "::::{group-tab} Python\n",
    "\n",
    "  :::{literalinclude} code/python/factorial_sol.py\n",
    "  :language: python\n",
    "  :::\n",
    "\n",
    "::::\n",
    "\n",
    "::::{group-tab} C++\n",
    "\n",
    "  :::{literalinclude} code/cpp/factorial_sol.cpp\n",
    "  :language: C++\n",
    "  :::\n",
    "  \n",
    "::::\n",
    "\n",
    "::::{group-tab} R\n",
    "\n",
    "  :::{literalinclude} code/R/factorial_sol.R\n",
    "  :language: R\n",
    "  :::\n",
    "  \n",
    "::::\n",
    "\n",
    "::::{group-tab} Julia\n",
    "\n",
    "  :::{literalinclude} code/julia/factorial_sol.jl\n",
    "  :language: julia\n",
    "  :::\n",
    "\n",
    "::::\n",
    "\n",
    "::::{group-tab} Fortran\n",
    "\n",
    "  :::{literalinclude} code/fortran/test_factorial.pf\n",
    "  :language: fortran\n",
    "  :::\n",
    "\n",
    "::::\n",
    ":::::\n",
    "        \n",
    "::::::"
   ]
  },
  {
   "cell_type": "markdown",
   "id": "96e7970f",
   "metadata": {},
   "source": [
    "## Embed PDFs"
   ]
  },
  {
   "cell_type": "markdown",
   "id": "f7495328",
   "metadata": {},
   "source": [
    "[![](../episodes/slides/efficient-array-computing.jpg)](../episodes/slides/efficient-array-computing.pdf)"
   ]
  }
 ],
 "metadata": {
  "kernelspec": {
   "display_name": "Python 3 (ipykernel)",
   "language": "python",
   "name": "python3"
  },
  "language_info": {
   "codemirror_mode": {
    "name": "ipython",
    "version": 3
   },
   "file_extension": ".py",
   "mimetype": "text/x-python",
   "name": "python",
   "nbconvert_exporter": "python",
   "pygments_lexer": "ipython3",
   "version": "3.13.7"
  }
 },
 "nbformat": 4,
 "nbformat_minor": 5
}
